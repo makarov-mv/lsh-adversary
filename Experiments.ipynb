{
 "cells": [
  {
   "cell_type": "code",
   "execution_count": 5,
   "id": "9a75f928",
   "metadata": {},
   "outputs": [],
   "source": [
    "import numpy as np\n",
    "from matplotlib import pyplot as plt\n",
    "from tqdm.notebook import tqdm\n",
    "import sklearn.neighbors as skln\n",
    "\n",
    "rng = np.random.default_rng(seed=67)\n",
    "plt.rcParams[\"figure.figsize\"] = (8,5)"
   ]
  },
  {
   "cell_type": "code",
   "execution_count": 6,
   "id": "3986bc09",
   "metadata": {},
   "outputs": [],
   "source": [
    "def l1_norm(a):\n",
    "    return np.linalg.norm(a, 1)\n",
    "\n",
    "def l1_norm_int(a):\n",
    "    return int(np.rint(np.abs(a).sum()))"
   ]
  },
  {
   "cell_type": "code",
   "execution_count": 7,
   "id": "74874e31",
   "metadata": {},
   "outputs": [],
   "source": [
    "delta = 1/1000\n",
    "n = 1000\n",
    "d = 300 # at least log n ** 2?\n",
    "r1 = d // 10\n",
    "r2 = d // 5\n",
    "k = np.floor(-np.log(n) / np.log(1 - r2 / d))\n",
    "rho = np.log(1 - r1/d) / np.log(1 - r2/d)\n",
    "l = int(np.ceil(np.power(n, rho) * np.log(1/delta)))"
   ]
  },
  {
   "cell_type": "code",
   "execution_count": 8,
   "id": "fb6be956",
   "metadata": {},
   "outputs": [
    {
     "data": {
      "text/plain": [
       "(1000, 181, 30.0, 0.4721647344828152, 30, 60)"
      ]
     },
     "execution_count": 8,
     "metadata": {},
     "output_type": "execute_result"
    }
   ],
   "source": [
    "n, l, k, rho, r1, r2"
   ]
  },
  {
   "cell_type": "code",
   "execution_count": 13,
   "id": "9fe08fac",
   "metadata": {},
   "outputs": [],
   "source": [
    "class HammingLSH:\n",
    "    def __init__(self, points, r1, r2, delta, random_gen=rng):\n",
    "        self._d = points.shape[1]\n",
    "        self._n = points.shape[0]\n",
    "        self._r1 = r1\n",
    "        self._r2 = r2\n",
    "        self._k = int(np.floor(-np.log(self._n) / np.log(1 - r2 / self._d)))\n",
    "        self._rho = np.log(1 - r1/self._d) / np.log(1 - r2/self._d)\n",
    "        self._l = int(np.ceil(np.power(self._n, self._rho) * np.log(1/delta)))\n",
    "        self._populate(points, random_gen)\n",
    "        \n",
    "    def _populate(self, points, random_gen):\n",
    "        self._buckets = [dict() for i in range(self._l)]\n",
    "        self._g_support = [random_gen.choice(self._d, self._k, replace=True) for i in range(self._l)]\n",
    "        for p in points:\n",
    "            for i in range(self._l):\n",
    "                bucket = p[self._g_support[i]]\n",
    "                if not bucket.tobytes() in self._buckets[i]:\n",
    "                    self._buckets[i][bucket.tobytes()] = p\n",
    "        \n",
    "    def query(self, q):\n",
    "        assert(len(q) == self._d)\n",
    "        for i in range(self._l):\n",
    "            bucket = q[self._g_support[i]]\n",
    "            p = self._buckets[i].get(bucket.tobytes())\n",
    "            if p is not None and np.linalg.norm(p - q, 1) <= r2:\n",
    "                return p\n",
    "        return None\n",
    "    \n",
    "    def cnt_mutual_buckets(self, q, z):\n",
    "        assert(len(q) == len(z) and len(q) == self._d)\n",
    "        ans = 0\n",
    "        for i in range(self._l):\n",
    "            q_buck = q[self._g_support[i]]\n",
    "            z_buck = z[self._g_support[i]]\n",
    "            if np.array_equal(q_buck, z_buck):\n",
    "                ans += 1\n",
    "        return ans\n",
    "                "
   ]
  },
  {
   "cell_type": "markdown",
   "id": "cdbaf94a",
   "metadata": {},
   "source": [
    "## Success chance tests"
   ]
  },
  {
   "cell_type": "code",
   "execution_count": 6,
   "id": "716032e2",
   "metadata": {},
   "outputs": [],
   "source": [
    "points = np.zeros((n, d))\n",
    "\n",
    "lsh = HammingLSH(points, r1, r2, delta)"
   ]
  },
  {
   "cell_type": "code",
   "execution_count": 8,
   "id": "2a592ad0",
   "metadata": {},
   "outputs": [],
   "source": [
    "grid = np.arange(r2 + 2)\n",
    "vals = np.zeros(r2 + 2)\n",
    "for dist in grid:\n",
    "    repeats = 3000\n",
    "    success = 0\n",
    "    for j in range(repeats):\n",
    "        q = np.zeros(d)\n",
    "        q[rng.choice(d, dist, replace=False)] = 1\n",
    "        res = lsh.query(q)\n",
    "        if res is not None:\n",
    "            success += 1\n",
    "    vals[dist] = success / repeats"
   ]
  },
  {
   "cell_type": "code",
   "execution_count": 9,
   "id": "e79b0298",
   "metadata": {
    "scrolled": true
   },
   "outputs": [
    {
     "data": {
      "image/png": "[encoded data removed]",
      "text/plain": [
       "<Figure size 576x360 with 1 Axes>"
      ]
     },
     "metadata": {
      "needs_background": "light"
     },
     "output_type": "display_data"
    }
   ],
   "source": [
    "plt.plot(grid, vals)\n",
    "plt.vlines([r1], 0, 1, colors=['red'])\n",
    "plt.show()"
   ]
  },
  {
   "cell_type": "code",
   "execution_count": 10,
   "id": "7febdf85",
   "metadata": {},
   "outputs": [
    {
     "name": "stdout",
     "output_type": "stream",
     "text": [
      "Success rate at r1: 1.0\n"
     ]
    }
   ],
   "source": [
    "print(\"Success rate at r1:\", vals[r1])"
   ]
  },
  {
   "cell_type": "markdown",
   "id": "4a839388",
   "metadata": {},
   "source": [
    "# Breaking hamming LSH"
   ]
  },
  {
   "cell_type": "code",
   "execution_count": 11,
   "id": "60e7fcc3",
   "metadata": {},
   "outputs": [],
   "source": [
    "t = 15"
   ]
  },
  {
   "cell_type": "code",
   "execution_count": 12,
   "id": "5ec2552e",
   "metadata": {
    "scrolled": true
   },
   "outputs": [
    {
     "name": "stdout",
     "output_type": "stream",
     "text": [
      "30 60 15\n"
     ]
    }
   ],
   "source": [
    "print(r1, r2, t)"
   ]
  },
  {
   "cell_type": "code",
   "execution_count": 13,
   "id": "0b9a4a8a",
   "metadata": {},
   "outputs": [],
   "source": [
    "points = np.zeros((n, d))\n",
    "\n",
    "nn_checker = skln.KDTree(points, metric='l1')\n",
    "lsh = HammingLSH(points, r1, r2, delta)"
   ]
  },
  {
   "cell_type": "code",
   "execution_count": 14,
   "id": "446024f4",
   "metadata": {},
   "outputs": [
    {
     "name": "stdout",
     "output_type": "stream",
     "text": [
      "15\n",
      "15.0\n"
     ]
    },
    {
     "data": {
      "application/vnd.jupyter.widget-view+json": {
       "model_id": "1f02a11ed7c6466ba0d41ed14956e256",
       "version_major": 2,
       "version_minor": 0
      },
      "text/plain": [
       "Outer loop:   0%|          | 0/1000 [00:00<?, ?it/s]"
      ]
     },
     "metadata": {},
     "output_type": "display_data"
    },
    {
     "name": "stdout",
     "output_type": "stream",
     "text": [
      "norm of q: 27.0\n",
      "True\n",
      "query size: 27\n",
      "377\n",
      "None\n"
     ]
    }
   ],
   "source": [
    "found_error = False\n",
    "error_query = None\n",
    "total_queries = 0\n",
    "\n",
    "def make_query(q):\n",
    "    global total_queries\n",
    "    total_queries += 1\n",
    "    res_dist, res1 = nn_checker.query(q[None, :], return_distance=True)\n",
    "    res2 = lsh.query(q)\n",
    "    if res_dist[0] <= r1 and res2 is None or res2 is not None and l1_norm(res2 - q) > r2:\n",
    "        global found_error, error_query\n",
    "        found_error = True\n",
    "        error_query = q\n",
    "    return res2\n",
    "        \n",
    "dist = r1 - t\n",
    "q = np.zeros(d)\n",
    "q[rng.choice(d, dist, replace=False)] = 1\n",
    "print(dist)\n",
    "print(l1_norm(q))\n",
    "max_iter = 1000\n",
    "\n",
    "for _ in tqdm(range(max_iter), desc=\"Outer loop\"):\n",
    "    if make_query(q) is None:\n",
    "        break\n",
    "    q1 = np.copy(q)\n",
    "    next_bit = None\n",
    "    found_bit = False\n",
    "    for _ in range(r2):\n",
    "        next_bit = rng.choice(np.argwhere(q1 == 0), 1)[0]\n",
    "        q1[next_bit] = 1\n",
    "        if (l1_norm(q1) > r2):\n",
    "            break\n",
    "        if make_query(q1) is None or found_error:\n",
    "            found_bit = True\n",
    "            break\n",
    "    if found_bit:\n",
    "#         print(\"Found bit at dist\", l1_norm(q1))\n",
    "        q[next_bit] = 1\n",
    "    if found_error:\n",
    "        break\n",
    "print(\"norm of q:\", l1_norm(q))\n",
    "print(found_error)\n",
    "if found_error:\n",
    "    print(\"query size:\", l1_norm_int(error_query))\n",
    "    print(total_queries)\n",
    "    print(lsh.query(error_query))"
   ]
  },
  {
   "cell_type": "markdown",
   "id": "59c97b26",
   "metadata": {},
   "source": [
    "# Breaking hamming LSH faster"
   ]
  },
  {
   "cell_type": "code",
   "execution_count": 6,
   "id": "ed6d0e79",
   "metadata": {},
   "outputs": [],
   "source": [
    "t = 10"
   ]
  },
  {
   "cell_type": "code",
   "execution_count": 7,
   "id": "8c3c10d0",
   "metadata": {
    "scrolled": true
   },
   "outputs": [
    {
     "name": "stdout",
     "output_type": "stream",
     "text": [
      "30 60 10 1000 300\n"
     ]
    }
   ],
   "source": [
    "print(r1, r2, t, n, d)"
   ]
  },
  {
   "cell_type": "code",
   "execution_count": 8,
   "id": "7dcfc1a2",
   "metadata": {},
   "outputs": [],
   "source": [
    "points = np.zeros((n, d))\n",
    "\n",
    "nn_checker = skln.KDTree(points, metric='l1')\n",
    "lsh = HammingLSH(points, r1, r2, delta)"
   ]
  },
  {
   "cell_type": "code",
   "execution_count": 9,
   "id": "af15eae8",
   "metadata": {},
   "outputs": [],
   "source": [
    "def run_exp_fast(t, target_distance=r1, max_resamples=1):\n",
    "    found_error = False\n",
    "    error_query = None\n",
    "    total_queries = 0\n",
    "\n",
    "    def make_query(q):\n",
    "        nonlocal total_queries\n",
    "        total_queries += 1\n",
    "        res_dist, res1 = nn_checker.query(q[None, :], return_distance=True)\n",
    "        res2 = lsh.query(q)\n",
    "        if res_dist[0] <= r1 and res2 is None or res2 is not None and l1_norm(res2 - q) > r2:\n",
    "            nonlocal found_error, error_query\n",
    "            found_error = True\n",
    "            error_query = q\n",
    "        return res2\n",
    "\n",
    "    dist = r1 - t\n",
    "    num_resample = 0\n",
    "    while not found_error and num_resample < max_resamples:\n",
    "        num_resample += 1\n",
    "        q = np.zeros(d)\n",
    "        q[rng.choice(d, dist, replace=False)] = 1\n",
    "        max_iter = 1000\n",
    "\n",
    "        for _ in range(max_iter):\n",
    "            if l1_norm_int(q) >= target_distance:\n",
    "                break\n",
    "            if make_query(q) is None:\n",
    "                break\n",
    "            q1 = np.copy(q)\n",
    "            next_bit = None\n",
    "            found_bit = False\n",
    "\n",
    "            failed = True\n",
    "            for _ in range(max_iter):\n",
    "                qr = np.copy(q1)\n",
    "                qr[rng.choice(np.argwhere(q1 == 0), r2 - l1_norm_int(q1), replace=False).flatten()] = 1\n",
    "                if make_query(qr) is None:\n",
    "                    failed = False\n",
    "                    break\n",
    "\n",
    "            if failed:\n",
    "                break\n",
    "\n",
    "            ql = q1\n",
    "\n",
    "            while l1_norm_int(qr - ql) > 1:\n",
    "                flip_bits = rng.choice(np.argwhere(qr != ql), l1_norm_int(qr - ql) // 2, replace=False).flatten()\n",
    "                qm = np.copy(ql)\n",
    "                qm[flip_bits] = 1\n",
    "                if make_query(qm) is None:\n",
    "                    qr = qm\n",
    "                else:\n",
    "                    ql = qm\n",
    "\n",
    "            next_bit = np.argwhere(qr != ql)[0]\n",
    "            q[next_bit] = 1\n",
    "        #         print(\"Found bit at dist\", l1_norm(qr))\n",
    "            if found_error:\n",
    "                break\n",
    "\n",
    "#     print(\"norm of q:\", l1_norm(q))\n",
    "#     print(found_error)\n",
    "#     if found_error:\n",
    "#         print(l1_norm(error_query))\n",
    "#         print(total_queries)\n",
    "#         print(lsh.query(error_query))\n",
    "    return found_error, total_queries, l1_norm(q)"
   ]
  },
  {
   "cell_type": "code",
   "execution_count": 13,
   "id": "7518bf03",
   "metadata": {},
   "outputs": [
    {
     "data": {
      "text/plain": [
       "(True, 141, 18.0)"
      ]
     },
     "execution_count": 13,
     "metadata": {},
     "output_type": "execute_result"
    }
   ],
   "source": [
    "run_exp_fast(30, target_distance=20)"
   ]
  },
  {
   "cell_type": "markdown",
   "id": "603c90fc",
   "metadata": {},
   "source": [
    "### Analysing dependance on t"
   ]
  },
  {
   "cell_type": "code",
   "execution_count": 17,
   "id": "773f4f10",
   "metadata": {},
   "outputs": [
    {
     "data": {
      "application/vnd.jupyter.widget-view+json": {
       "model_id": "3b7e92c1e4f446518b58a487823fd186",
       "version_major": 2,
       "version_minor": 0
      },
      "text/plain": [
       "  0%|          | 0/31 [00:00<?, ?it/s]"
      ]
     },
     "metadata": {},
     "output_type": "display_data"
    }
   ],
   "source": [
    "t_grid = np.arange(0, r1 + 1, 1)\n",
    "iters_per_point = 30\n",
    "res = []\n",
    "for t1 in tqdm(t_grid):\n",
    "    cur_res = []\n",
    "    for i in range(iters_per_point):\n",
    "        cur_res.append(run_exp_fast(t1))\n",
    "    res.append(cur_res)"
   ]
  },
  {
   "cell_type": "code",
   "execution_count": 18,
   "id": "a9942e5e",
   "metadata": {},
   "outputs": [],
   "source": [
    "failure_prob = []\n",
    "mean_queries = np.zeros(len(res))\n",
    "bars_queries = [np.zeros(len(res)), np.zeros(len(res))]\n",
    "for i, v in enumerate(res):\n",
    "    f_pr = sum(1 - e[0] for e in v) / len(v)\n",
    "    failure_prob.append(f_pr)\n",
    "    queries = [e[1] for e in v]\n",
    "    mean_queries[i] = np.mean(queries)\n",
    "    bars_queries[0][i] = np.percentile(queries, 90)\n",
    "    bars_queries[1][i] = np.percentile(queries, 10)\n",
    "\n",
    "bars_queries[0] -= mean_queries\n",
    "bars_queries[1] = mean_queries - bars_queries[1]"
   ]
  },
  {
   "cell_type": "code",
   "execution_count": 19,
   "id": "130a9322",
   "metadata": {},
   "outputs": [
    {
     "data": {
      "image/png": "[encoded data removed]",
      "text/plain": [
       "<Figure size 576x360 with 1 Axes>"
      ]
     },
     "metadata": {
      "needs_background": "light"
     },
     "output_type": "display_data"
    },
    {
     "data": {
      "image/png": "[encoded data removed]",
      "text/plain": [
       "<Figure size 576x360 with 1 Axes>"
      ]
     },
     "metadata": {
      "needs_background": "light"
     },
     "output_type": "display_data"
    }
   ],
   "source": [
    "plt.plot(t_grid, failure_prob)\n",
    "plt.title(\"Failure probability vs t\")\n",
    "plt.xlabel(\"$t$\")\n",
    "plt.ylabel(\"Failure probability\")\n",
    "plt.show()\n",
    "\n",
    "plt.errorbar(t_grid, mean_queries, yerr=bars_queries)\n",
    "plt.title(\"Number of queries vs t\")\n",
    "plt.xlabel(\"$t$\")\n",
    "plt.ylabel(\"Number of queries\")\n",
    "plt.show()"
   ]
  },
  {
   "cell_type": "code",
   "execution_count": null,
   "id": "c7651a6c",
   "metadata": {},
   "outputs": [],
   "source": []
  },
  {
   "cell_type": "markdown",
   "id": "0508913d",
   "metadata": {},
   "source": [
    "### Analysing dependance on radius"
   ]
  },
  {
   "cell_type": "code",
   "execution_count": 20,
   "id": "8eb6c9d8",
   "metadata": {},
   "outputs": [
    {
     "data": {
      "application/vnd.jupyter.widget-view+json": {
       "model_id": "156864b7582240349af7bd69bd602e02",
       "version_major": 2,
       "version_minor": 0
      },
      "text/plain": [
       "  0%|          | 0/31 [00:00<?, ?it/s]"
      ]
     },
     "metadata": {},
     "output_type": "display_data"
    }
   ],
   "source": [
    "r_grid = np.arange(0, r1 + 1, 1)\n",
    "iters_per_point = 10\n",
    "r_res = []\n",
    "for rp in tqdm(r_grid):\n",
    "    cur_res = []\n",
    "    for i in range(iters_per_point):\n",
    "        cur_res.append(run_exp_fast(r1, target_distance=rp))\n",
    "    r_res.append(cur_res)"
   ]
  },
  {
   "cell_type": "code",
   "execution_count": 21,
   "id": "3476dda4",
   "metadata": {},
   "outputs": [],
   "source": [
    "failure_prob = []\n",
    "mean_queries = np.zeros(len(r_res))\n",
    "bars_queries = [np.zeros(len(r_res)), np.zeros(len(r_res))]\n",
    "for i, v in enumerate(r_res):\n",
    "    f_pr = sum(1 - e[0] for e in v) / len(v)\n",
    "    failure_prob.append(f_pr)\n",
    "    queries = [e[1] for e in v]\n",
    "    mean_queries[i] = np.mean(queries)\n",
    "    bars_queries[0][i] = np.percentile(queries, 90)\n",
    "    bars_queries[1][i] = np.percentile(queries, 10)\n",
    "\n",
    "bars_queries[0] -= mean_queries\n",
    "bars_queries[1] = mean_queries - bars_queries[1]"
   ]
  },
  {
   "cell_type": "code",
   "execution_count": 22,
   "id": "6e6bc63e",
   "metadata": {},
   "outputs": [
    {
     "data": {
      "image/png": "[encoded data removed]",
      "text/plain": [
       "<Figure size 576x360 with 1 Axes>"
      ]
     },
     "metadata": {
      "needs_background": "light"
     },
     "output_type": "display_data"
    },
    {
     "data": {
      "image/png": "[encoded data removed]",
      "text/plain": [
       "<Figure size 576x360 with 1 Axes>"
      ]
     },
     "metadata": {
      "needs_background": "light"
     },
     "output_type": "display_data"
    }
   ],
   "source": [
    "plt.plot(r_grid, failure_prob)\n",
    "plt.title(\"Failure probability vs target radius\")\n",
    "plt.xlabel(\"Radius\")\n",
    "plt.ylabel(\"Failure probability\")\n",
    "plt.show()\n",
    "\n",
    "# plt.errorbar(r_grid, mean_queries, yerr=bars_queries)\n",
    "plt.plot(r_grid, mean_queries)\n",
    "plt.title(\"Number of queries vs target radius\")\n",
    "plt.xlabel(\"Radius\")\n",
    "plt.ylabel(\"Number of queries\")\n",
    "plt.show()"
   ]
  },
  {
   "cell_type": "markdown",
   "id": "970f1a4a",
   "metadata": {},
   "source": [
    "# Size of $G(q,z)$"
   ]
  },
  {
   "cell_type": "code",
   "execution_count": 6,
   "id": "ff110f09",
   "metadata": {},
   "outputs": [],
   "source": [
    "t = 10"
   ]
  },
  {
   "cell_type": "code",
   "execution_count": 7,
   "id": "11f5dd03",
   "metadata": {
    "scrolled": true
   },
   "outputs": [
    {
     "name": "stdout",
     "output_type": "stream",
     "text": [
      "30 60 10 1000 300\n"
     ]
    }
   ],
   "source": [
    "print(r1, r2, t, n, d)"
   ]
  },
  {
   "cell_type": "code",
   "execution_count": 11,
   "id": "cf6576d2",
   "metadata": {},
   "outputs": [],
   "source": [
    "points = np.zeros((n, d))\n",
    "\n",
    "z = np.zeros(d)"
   ]
  },
  {
   "cell_type": "code",
   "execution_count": 29,
   "id": "e07c8b9c",
   "metadata": {},
   "outputs": [
    {
     "data": {
      "application/vnd.jupyter.widget-view+json": {
       "model_id": "9b3f8f4bf38c4010a68965b598f1244d",
       "version_major": 2,
       "version_minor": 0
      },
      "text/plain": [
       "  0%|          | 0/60 [00:00<?, ?it/s]"
      ]
     },
     "metadata": {},
     "output_type": "display_data"
    }
   ],
   "source": [
    "grid = np.arange(0, r2)\n",
    "\n",
    "num_samples = 10\n",
    "res = []\n",
    "for dist in tqdm(grid):\n",
    "    q = np.zeros(d)\n",
    "    q[:dist] = 1\n",
    "    cur_res = []\n",
    "    for i in range(num_samples):\n",
    "        lsh = HammingLSH(points, r1, r2, delta)\n",
    "        cur_res.append(lsh.cnt_mutual_buckets(q, z))\n",
    "    res.append(cur_res)"
   ]
  },
  {
   "cell_type": "code",
   "execution_count": 40,
   "id": "37a09cdb",
   "metadata": {},
   "outputs": [],
   "source": [
    "frac_res = np.array(res) / lsh._l\n",
    "means = np.mean(frac_res, axis=1)\n",
    "err = np.std(frac_res, axis=1)"
   ]
  },
  {
   "cell_type": "code",
   "execution_count": 42,
   "id": "b930a353",
   "metadata": {},
   "outputs": [
    {
     "data": {
      "image/png": "[encoded data removed]",
      "text/plain": [
       "<Figure size 576x360 with 1 Axes>"
      ]
     },
     "metadata": {
      "needs_background": "light"
     },
     "output_type": "display_data"
    }
   ],
   "source": [
    "plt.errorbar(grid, means, yerr=err)\n",
    "# plt.yscale(\"log\")\n",
    "plt.title(\"Size of $G(q, z)$\")\n",
    "plt.xlabel(\"Distance to $q$\")\n",
    "plt.ylabel(\"Fraction of all functions\")\n",
    "plt.show()"
   ]
  }
 ],
 "metadata": {
  "kernelspec": {
   "display_name": "Python 3",
   "language": "python",
   "name": "python3"
  },
  "language_info": {
   "codemirror_mode": {
    "name": "ipython",
    "version": 3
   },
   "file_extension": ".py",
   "mimetype": "text/x-python",
   "name": "python",
   "nbconvert_exporter": "python",
   "pygments_lexer": "ipython3",
   "version": "3.8.8"
  }
 },
 "nbformat": 4,
 "nbformat_minor": 5
}
