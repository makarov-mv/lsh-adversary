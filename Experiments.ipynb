{
 "cells": [
  {
   "cell_type": "code",
   "execution_count": 1,
   "id": "89ecd374",
   "metadata": {},
   "outputs": [],
   "source": [
    "%load_ext autoreload\n",
    "%autoreload 2"
   ]
  },
  {
   "cell_type": "code",
   "execution_count": 90,
   "id": "9a75f928",
   "metadata": {},
   "outputs": [],
   "source": [
    "import numpy as np\n",
    "from matplotlib import pyplot as plt\n",
    "from tqdm.notebook import tqdm\n",
    "import sklearn.neighbors as skln\n",
    "import gc\n",
    "import pickle\n",
    "import os\n",
    "\n",
    "from lshexperiment import *\n",
    "\n",
    "DATA_DIR = 'data'\n",
    "FIG_DIR = \"figs\"\n",
    "\n",
    "if DATA_DIR is not None and not os.path.exists(DATA_DIR):\n",
    "    os.makedirs(DATA_DIR)\n",
    "if FIG_DIR is not None and not os.path.exists(FIG_DIR):\n",
    "    os.makedirs(FIG_DIR)\n",
    "\n",
    "def save_fig(name):\n",
    "    plt.savefig(os.path.join(FIG_DIR, name + \".png\"), bbox_inches='tight')\n",
    "    \n",
    "# rng = np.random.default_rng(seed=67)\n",
    "plt.rcParams[\"figure.figsize\"] = (8,3)\n",
    "plt.rcParams['figure.dpi'] = 300"
   ]
  },
  {
   "cell_type": "markdown",
   "id": "cdbaf94a",
   "metadata": {},
   "source": [
    "## Success chance tests"
   ]
  },
  {
   "cell_type": "code",
   "execution_count": 18,
   "id": "716032e2",
   "metadata": {},
   "outputs": [],
   "source": [
    "points = np.zeros((n, d), dtype=int)\n",
    "\n",
    "lsh = HammingLSH(points, r1, r2, delta)"
   ]
  },
  {
   "cell_type": "code",
   "execution_count": 27,
   "id": "2a592ad0",
   "metadata": {},
   "outputs": [
    {
     "data": {
      "application/vnd.jupyter.widget-view+json": {
       "model_id": "f0c00b37d78b4b5c83e23b7c0ea7db13",
       "version_major": 2,
       "version_minor": 0
      },
      "text/plain": [
       "  0%|          | 0/62 [00:00<?, ?it/s]"
      ]
     },
     "metadata": {},
     "output_type": "display_data"
    }
   ],
   "source": [
    "grid = np.arange(r2 + 2)\n",
    "vals = np.zeros(r2 + 2)\n",
    "for dist in tqdm(grid):\n",
    "    repeats = 100\n",
    "    success = 0\n",
    "    for j in range(repeats):\n",
    "        for j in range(300):\n",
    "            q = np.zeros(d, dtype=int)\n",
    "            q[rng.choice(d, dist, replace=False)] = 1\n",
    "            res = lsh.query(q)\n",
    "            if res is None:\n",
    "                success += 1\n",
    "                break\n",
    "    vals[dist] = success / repeats"
   ]
  },
  {
   "cell_type": "code",
   "execution_count": 28,
   "id": "e79b0298",
   "metadata": {
    "scrolled": true
   },
   "outputs": [
    {
     "data": {
      "image/png": "[encoded data removed]",
      "text/plain": [
       "<Figure size 576x360 with 1 Axes>"
      ]
     },
     "metadata": {
      "needs_background": "light"
     },
     "output_type": "display_data"
    }
   ],
   "source": [
    "plt.plot(grid, vals)\n",
    "plt.vlines([r1], 0, 1, colors=['red'])\n",
    "plt.xlim(None, 30)\n",
    "plt.show()"
   ]
  },
  {
   "cell_type": "code",
   "execution_count": 10,
   "id": "7febdf85",
   "metadata": {},
   "outputs": [
    {
     "name": "stdout",
     "output_type": "stream",
     "text": [
      "Success rate at r1: 1.0\n"
     ]
    }
   ],
   "source": [
    "print(\"Success rate at r1:\", vals[r1])"
   ]
  },
  {
   "cell_type": "markdown",
   "id": "59c97b26",
   "metadata": {},
   "source": [
    "# Breaking hamming LSH faster"
   ]
  },
  {
   "cell_type": "code",
   "execution_count": 91,
   "id": "c7561422",
   "metadata": {},
   "outputs": [],
   "source": [
    "env = Environment()\n",
    "\n",
    "point_params = {\n",
    "    'n': 1000,\n",
    "    'd': 300,\n",
    "    'point_type': \"zero\",\n",
    "    'seed_offset': 0\n",
    "}\n",
    "\n",
    "lsh_params = {\n",
    "    'delta': 1/128,\n",
    "    'seed_offset': 0,\n",
    "    'r1': point_params['d'] // 10,\n",
    "    'r2': point_params['d'] // 5\n",
    "}\n",
    "\n",
    "exp_params = {\n",
    "    'alg_type': 'adaptive',\n",
    "    'iter_num': 1000,\n",
    "    'seed_offset': 0,\n",
    "    'target_distance': lsh_params['r1'],\n",
    "}"
   ]
  },
  {
   "cell_type": "markdown",
   "id": "603c90fc",
   "metadata": {},
   "source": [
    "### Analysing dependance on t"
   ]
  },
  {
   "cell_type": "code",
   "execution_count": null,
   "id": "773f4f10",
   "metadata": {},
   "outputs": [
    {
     "data": {
      "application/vnd.jupyter.widget-view+json": {
       "model_id": "42bc8d0e8a8643bc85582e6327394223",
       "version_major": 2,
       "version_minor": 0
      },
      "text/plain": [
       "  0%|          | 0/31 [00:00<?, ?it/s]"
      ]
     },
     "metadata": {},
     "output_type": "display_data"
    }
   ],
   "source": [
    "t_grid = np.arange(0, lsh_params['r1'] + 1, 1)\n",
    "new_exp_param = exp_params.copy()\n",
    "res = run_basic_grid_experiment(t_grid, 't', env, point_params, lsh_params, new_exp_param, DATA_DIR)"
   ]
  },
  {
   "cell_type": "code",
   "execution_count": null,
   "id": "9d1207fb",
   "metadata": {},
   "outputs": [],
   "source": [
    "data_succ_prob, data_queries = process_results(res)"
   ]
  },
  {
   "cell_type": "code",
   "execution_count": null,
   "id": "130a9322",
   "metadata": {
    "scrolled": true
   },
   "outputs": [],
   "source": [
    "dist_grid = lsh_params['r1'] - t_grid\n",
    "xlims = (np.min(dist_grid) - 1, np.max(dist_grid) + 1)\n",
    "\n",
    "plt.errorbar(dist_grid, data_succ_prob[0], yerr=data_succ_prob[1])\n",
    "# plt.xlim(xlims)\n",
    "plt.title(\"Success probability vs starting distance\")\n",
    "plt.xlabel(\"Starting distance\")\n",
    "plt.ylabel(\"Success probability\")\n",
    "save_fig(\"prob-starting-distance\")\n",
    "plt.show()\n",
    "\n",
    "plt.errorbar(dist_grid, data_queries[0], yerr=data_queries[1])\n",
    "# plt.xlim(xlims)\n",
    "plt.title(\"Mean number of queries vs starting distance\")\n",
    "plt.xlabel(\"Starting distance\")\n",
    "plt.ylabel(\"Number of queries\")\n",
    "save_fig(\"queries-starting-distance\")\n",
    "plt.show()"
   ]
  },
  {
   "cell_type": "markdown",
   "id": "8f28130f",
   "metadata": {},
   "source": [
    "### Dependance on $t$ with random points"
   ]
  },
  {
   "cell_type": "code",
   "execution_count": null,
   "id": "da25a554",
   "metadata": {},
   "outputs": [],
   "source": [
    "env = Environment()\n",
    "\n",
    "point_params = {\n",
    "    'n': 1000,\n",
    "    'd': 300,\n",
    "    'point_type': \"random\",\n",
    "    'seed_offset': 0\n",
    "}\n",
    "\n",
    "lsh_params = {\n",
    "    'delta': 1/128,\n",
    "    'seed_offset': 0,\n",
    "    'r1': point_params['d'] // 10,\n",
    "    'r2': point_params['d'] // 5\n",
    "}\n",
    "\n",
    "exp_params = {\n",
    "    'alg_type': 'adaptive',\n",
    "    'change_points': True,\n",
    "    'iter_num': 1000,\n",
    "    'seed_offset': 0,\n",
    "    'target_distance': lsh_params['r1'],\n",
    "}"
   ]
  },
  {
   "cell_type": "code",
   "execution_count": null,
   "id": "3f71a184",
   "metadata": {
    "scrolled": false
   },
   "outputs": [],
   "source": [
    "t_grid = np.arange(0, lsh_params['r1'] + 1, 1)\n",
    "res = run_basic_grid_experiment(t_grid, 't', env, point_params, lsh_params, exp_params, data_dir=DATA_DIR)"
   ]
  },
  {
   "cell_type": "code",
   "execution_count": null,
   "id": "5ff64c83",
   "metadata": {},
   "outputs": [],
   "source": [
    "rand_data_succ_prob, rand_data_queries = process_results(res)"
   ]
  },
  {
   "cell_type": "code",
   "execution_count": null,
   "id": "40c3c34f",
   "metadata": {
    "scrolled": false
   },
   "outputs": [],
   "source": [
    "dist_grid = lsh_params['r1'] - t_grid\n",
    "xlims = (np.min(dist_grid) - 1, np.max(dist_grid) + 1)\n",
    "\n",
    "fig, axs = plt.subplots(1, 2, figsize=(8, 3))\n",
    "\n",
    "axs[0].errorbar(dist_grid, data_succ_prob[0], yerr=data_succ_prob[1], linestyle='--',label=\"Zeros\")\n",
    "axs[0].errorbar(dist_grid, rand_data_succ_prob[0], yerr=rand_data_succ_prob[1], label=\"Random points\")\n",
    "axs[0].legend()\n",
    "# plt.xlim(xlims)\n",
    "# plt.title(\"Success probability vs starting distance\")\n",
    "axs[0].set_xlabel(\"Starting distance\")\n",
    "axs[0].set_ylabel(\"Success probability\")\n",
    "# save_fig(\"all-prob-starting-distance\")\n",
    "\n",
    "axs[1].errorbar(dist_grid, data_queries[0], yerr=data_queries[1], linestyle='--', label='Zeros')\n",
    "axs[1].errorbar(dist_grid, rand_data_queries[0], yerr=rand_data_queries[1], label='Random points')\n",
    "axs[1].legend()\n",
    "# plt.xlim(xlims)\n",
    "# plt.title(\"Number of queries vs starting distance\")\n",
    "axs[1].set_xlabel(\"Starting distance\")\n",
    "axs[1].set_ylabel(\"Number of queries\")\n",
    "fig.tight_layout()\n",
    "# save_fig(\"all-queries-starting-distance\")\n",
    "save_fig(\"all-all-starting-distance\")\n",
    "plt.show()"
   ]
  },
  {
   "cell_type": "markdown",
   "id": "0508913d",
   "metadata": {},
   "source": [
    "### Analysing dependance on radius"
   ]
  },
  {
   "cell_type": "code",
   "execution_count": null,
   "id": "12cde2cb",
   "metadata": {},
   "outputs": [],
   "source": [
    "env = Environment()\n",
    "\n",
    "point_params = {\n",
    "    'n': 1000,\n",
    "    'd': 300,\n",
    "    'point_type': \"zero\",\n",
    "    'seed_offset': 0\n",
    "}\n",
    "\n",
    "lsh_params = {\n",
    "    'delta': 1/5,\n",
    "    'seed_offset': 0,\n",
    "    'r1': point_params['d'] // 10,\n",
    "    'r2': point_params['d'] // 5\n",
    "}\n",
    "\n",
    "exp_params = {\n",
    "    'alg_type': 'adaptive',\n",
    "    'iter_num': 1000,\n",
    "    'seed_offset': 0,\n",
    "    'target_distance': lsh_params['r1'],\n",
    "}"
   ]
  },
  {
   "cell_type": "code",
   "execution_count": null,
   "id": "6a36f6a5",
   "metadata": {
    "scrolled": false
   },
   "outputs": [],
   "source": [
    "grid = np.arange(0, lsh_params['r1'], 1)\n",
    "res = run_basic_grid_experiment(grid, 'target_distance', env, point_params, lsh_params, exp_params, data_dir=DATA_DIR)"
   ]
  },
  {
   "cell_type": "code",
   "execution_count": null,
   "id": "a479ddf8",
   "metadata": {},
   "outputs": [],
   "source": [
    "data_succ_prob, data_queries = process_results(res)"
   ]
  },
  {
   "cell_type": "code",
   "execution_count": null,
   "id": "746efca7",
   "metadata": {
    "scrolled": false
   },
   "outputs": [],
   "source": [
    "fig, axs = plt.subplots(1, 2, figsize=(8, 3))\n",
    "\n",
    "axs[0].errorbar(grid, data_succ_prob[0], yerr=data_succ_prob[1])\n",
    "# plt.xlim(xlims)\n",
    "# plt.yscale(\"log\")\n",
    "axs[0].set_xlabel(\"Radius\")\n",
    "axs[0].set_ylabel(\"Success probability\")\n",
    "\n",
    "axs[1].errorbar(grid, data_queries[0], yerr=data_queries[1])\n",
    "# plt.xlim(xlims)\n",
    "axs[1].set_xlabel(\"Radius\")\n",
    "axs[1].set_ylabel(\"Number of queries\")\n",
    "\n",
    "fig.tight_layout()\n",
    "# save_fig(\"all-all-starting-distance\")\n",
    "save_fig(\"all-radius\")\n",
    "plt.show()"
   ]
  },
  {
   "cell_type": "markdown",
   "id": "81e70ae6",
   "metadata": {},
   "source": [
    "### Search for infliction point"
   ]
  },
  {
   "cell_type": "code",
   "execution_count": null,
   "id": "90702a06",
   "metadata": {},
   "outputs": [],
   "source": [
    "env = Environment()\n",
    "\n",
    "point_params = {\n",
    "    'n': 1000,\n",
    "    'd': 300,\n",
    "    'point_type': \"zero\",\n",
    "    'seed_offset': 0\n",
    "}\n",
    "\n",
    "lsh_params = {\n",
    "    'delta': 1/2,\n",
    "    'seed_offset': 0,\n",
    "    'r1': point_params['d'] // 10,\n",
    "    'r2': point_params['d'] // 5\n",
    "}\n",
    "\n",
    "exp_params = {\n",
    "    'alg_type': 'adaptive',\n",
    "    'iter_num': 1000,\n",
    "    'seed_offset': 0,\n",
    "    'target_distance': lsh_params['r1'],\n",
    "}"
   ]
  },
  {
   "cell_type": "code",
   "execution_count": null,
   "id": "022a6e5f",
   "metadata": {},
   "outputs": [],
   "source": [
    "delta_list = np.exp2(-np.arange(1, 14, 3))\n",
    "grid = np.arange(0, lsh_params['r2'], 1)\n",
    "\n",
    "all_res = []\n",
    "\n",
    "for dl in delta_list:\n",
    "    new_lsh_params = lsh_params.copy()\n",
    "    new_lsh_params['delta'] = dl\n",
    "    res = run_basic_grid_experiment(grid, 'target_distance', env, point_params, new_lsh_params, exp_params, data_dir=DATA_DIR)\n",
    "    all_res.append(res)"
   ]
  },
  {
   "cell_type": "code",
   "execution_count": null,
   "id": "572ae8cc",
   "metadata": {},
   "outputs": [],
   "source": [
    "markers = ['1', '2', '3', '.', 'x']\n",
    "for r_res, dl, mark in zip(all_res, delta_list, markers):\n",
    "    data_succ_prob, _ = process_results(r_res)\n",
    "    plt.errorbar(grid, data_succ_prob[0], yerr=data_succ_prob[1], marker=mark, label=f\"$1/\\delta={1/dl:.1f}$\")\n",
    "\n",
    "plt.vlines(lsh_params['r1'], 0, 1, linestyles='dashed', color='black')\n",
    "# plt.title(f\"Success probability vs target radius\")\n",
    "plt.legend()\n",
    "# plt.ylim(-0.1, 1.1)\n",
    "plt.xlabel(\"Radius\")\n",
    "plt.ylabel(\"Success probability\")\n",
    "save_fig(\"delta-comparison\")\n",
    "plt.show()\n"
   ]
  },
  {
   "cell_type": "markdown",
   "id": "e378eb35",
   "metadata": {},
   "source": [
    "### Success probability vs number of hash functions"
   ]
  },
  {
   "cell_type": "code",
   "execution_count": 25,
   "id": "67b78c94",
   "metadata": {},
   "outputs": [
    {
     "data": {
      "application/vnd.jupyter.widget-view+json": {
       "model_id": "b047ada8a41e4b709575d6ea795e8322",
       "version_major": 2,
       "version_minor": 0
      },
      "text/plain": [
       "  0%|          | 0/20 [00:00<?, ?it/s]"
      ]
     },
     "metadata": {},
     "output_type": "display_data"
    }
   ],
   "source": [
    "l_list = np.linspace(1, 500, 20, endpoint=True)\n",
    "points = np.zeros((n, d), dtype=int)\n",
    "nn_checker = skln.KDTree(points, metric='l1')\n",
    "\n",
    "l_all_res = []\n",
    "\n",
    "for cur_l in tqdm(l_list):\n",
    "    iters_per_point = 300\n",
    "    cur_res = []\n",
    "    for i in range(iters_per_point):\n",
    "        lsh = HammingLSH(points, r1, r2, l=int(cur_l))\n",
    "        cur_res.append(run_exp_fast(r1))\n",
    "    l_all_res.append(cur_res)"
   ]
  },
  {
   "cell_type": "code",
   "execution_count": 26,
   "id": "855f893b",
   "metadata": {},
   "outputs": [],
   "source": [
    "failure_prob = []\n",
    "mean_queries = np.zeros(len(l_all_res))\n",
    "err_queries = np.zeros(len(l_all_res))\n",
    "# bars_queries = [np.zeros(len(r_res)), np.zeros(len(r_res))]\n",
    "for i, v in enumerate(l_all_res):\n",
    "    f_pr = sum(1 - e[0] for e in v) / len(v)\n",
    "    failure_prob.append(f_pr)\n",
    "    queries = [e[1] for e in v]\n",
    "    mean_queries[i] = np.mean(queries)\n",
    "#     bars_queries[0][i] = np.percentile(queries, 90)\n",
    "#     bars_queries[1][i] = np.percentile(queries, 10)\n",
    "    err_queries[i] = np.std(queries)\n",
    "\n",
    "\n",
    "# bars_queries[0] -= mean_queries\n",
    "# bars_queries[1] = mean_queries - bars_queries[1]"
   ]
  },
  {
   "cell_type": "code",
   "execution_count": 33,
   "id": "e5446df5",
   "metadata": {},
   "outputs": [
    {
     "data": {
      "image/png": "[encoded data removed]",
      "text/plain": [
       "<Figure size 576x360 with 1 Axes>"
      ]
     },
     "metadata": {
      "needs_background": "light"
     },
     "output_type": "display_data"
    }
   ],
   "source": [
    "plt.plot(l_list, 1 - np.array(failure_prob))\n",
    "plt.title(f\"Success probability vs number of hash functions, n = {n}\")\n",
    "plt.ylim(-0.1, 1.1)\n",
    "# plt.yscale(\"log\")\n",
    "# plt.xscale(\"log\")\n",
    "plt.xlabel(\"Number of hash functions\")\n",
    "plt.ylabel(\"Success probability\")\n",
    "plt.show()"
   ]
  },
  {
   "cell_type": "markdown",
   "id": "938af4a8",
   "metadata": {},
   "source": [
    "### Number of queries vs $1/\\delta$"
   ]
  },
  {
   "cell_type": "code",
   "execution_count": null,
   "id": "da7f3da4",
   "metadata": {},
   "outputs": [],
   "source": [
    "env = Environment()\n",
    "\n",
    "point_params = {\n",
    "    'n': 1000,\n",
    "    'd': 300,\n",
    "    'point_type': \"zero\",\n",
    "    'seed_offset': 0\n",
    "}\n",
    "\n",
    "lsh_params = {\n",
    "    'delta': 1/2,\n",
    "    'seed_offset': 0,\n",
    "    'r1': point_params['d'] // 10,\n",
    "    'r2': point_params['d'] // 5\n",
    "}\n",
    "\n",
    "exp_params = {\n",
    "    'alg_type': 'adaptive',\n",
    "    'iter_num': 1000,\n",
    "    'seed_offset': 0,\n",
    "    'target_distance': lsh_params['r1'],\n",
    "    'max_queries': 80000,\n",
    "    'max_resamples': 40000,\n",
    "}"
   ]
  },
  {
   "cell_type": "code",
   "execution_count": null,
   "id": "24d6e437",
   "metadata": {},
   "outputs": [],
   "source": [
    "delta_list = np.logspace(1, 8, 8, endpoint=True, base=1/2)    \n",
    "\n",
    "delta_adapt_res = []\n",
    "\n",
    "# for cur_delta in tqdm(delta_list):\n",
    "#     iters_per_point = 100\n",
    "#     cur_res = []\n",
    "#     for i in range(iters_per_point):\n",
    "#         lsh = HammingLSH(points, r1, r2, delta=cur_delta)\n",
    "#         cur_res.append(run_exp_fast(points[0], r1, nn_checker, lsh, max_resamples=30))\n",
    "#     delta_res.append(cur_res)\n",
    "\n",
    "for dl in tqdm(delta_list):\n",
    "    new_lsh_params = lsh_params.copy()\n",
    "    new_lsh_params['delta'] = dl\n",
    "    cur_res = run_experiments(env, point_params, new_lsh_params, exp_params, data_dir=DATA_DIR)\n",
    "    delta_adapt_res.append(cur_res)"
   ]
  },
  {
   "cell_type": "code",
   "execution_count": null,
   "id": "54a7ed6b",
   "metadata": {},
   "outputs": [],
   "source": [
    "delta_list = np.logspace(1, 8, 8, endpoint=True, base=1/np.e)    \n",
    "delta_rand_res = []\n",
    "\n",
    "for dl in tqdm(delta_list):\n",
    "    new_lsh_params = lsh_params.copy()\n",
    "    new_lsh_params['delta'] = dl\n",
    "    new_exp_params = exp_params.copy()\n",
    "    new_exp_params['alg_type'] = 'random'\n",
    "    cur_res = run_experiments(env, point_params, new_lsh_params, new_exp_params, data_dir=DATA_DIR)\n",
    "    delta_rand_res.append(cur_res)"
   ]
  },
  {
   "cell_type": "code",
   "execution_count": null,
   "id": "7244ca1b",
   "metadata": {},
   "outputs": [],
   "source": [
    "adapt_succ_prob, adapt_queries = process_results(delta_adapt_res)\n",
    "rand_succ_prob, rand_queries = process_results(delta_rand_res)"
   ]
  },
  {
   "cell_type": "code",
   "execution_count": null,
   "id": "6339893c",
   "metadata": {},
   "outputs": [],
   "source": [
    "plt.errorbar(1 / delta_list, adapt_succ_prob[0], yerr=adapt_succ_prob[1], label=\"Adaptive\")\n",
    "plt.errorbar(1 / delta_list, rand_succ_prob[0], yerr=rand_succ_prob[1], label=\"Random\")\n",
    "plt.legend()\n",
    "plt.title(f\"Success probability vs $1/\\delta$\")\n",
    "plt.ylim(-0.1, 1.1)\n",
    "# plt.yscale(\"log\")\n",
    "plt.xscale(\"log\")\n",
    "plt.xlabel(\"$1 / \\delta$\")\n",
    "plt.ylabel(\"Success probability\")\n",
    "plt.show()\n",
    "\n",
    "plt.errorbar(1 / delta_list, adapt_queries[0], yerr=adapt_queries[1], label=\"Adaptive\")\n",
    "plt.errorbar(1 / delta_list, rand_queries[0], yerr=rand_queries[1], label=\"Random\", linestyle='--')\n",
    "# plt.plot(1 / delta_list, rand_mean_queries / (1 - np.array(rand_failure_prob)), label=\"Random projected\")\n",
    "plt.legend()\n",
    "# plt.title(f\"Number of queries vs $1/\\delta$\")\n",
    "plt.yscale(\"log\")\n",
    "plt.xscale(\"log\")\n",
    "plt.xlabel(\"$1 / \\delta$\")\n",
    "plt.ylabel(\"Number of queries\")\n",
    "save_fig(\"both_queries-delta\")\n",
    "plt.show()\n",
    "\n",
    "# plt.errorbar(1 / delta_list, mean_queries, yerr=err_queries, label=\"Adaptive\")\n",
    "# plt.errorbar(1 / delta_list, rand_mean_queries, yerr=rand_err_queries, label=\"Random\")\n",
    "# plt.plot(1 / delta_list, rand_mean_queries / (1 - np.array(rand_failure_prob)), label=\"Random projected\")\n",
    "# plt.legend()\n",
    "# plt.title(f\"Number of queries vs $1/\\delta$, n = {n}\")\n",
    "# # plt.yscale(\"log\")\n",
    "# plt.xscale(\"log\")\n",
    "# plt.xlabel(\"$1 / \\delta$\")\n",
    "# plt.ylabel(\"Number of queries\")\n",
    "# plt.show()"
   ]
  },
  {
   "cell_type": "markdown",
   "id": "3180c04f",
   "metadata": {},
   "source": [
    "$X_i$ value of experiment $i$\n",
    "$$1/n \\cdot \\sum_{i} X_i$$\n",
    "error bar $$ 1/\\sqrt{n} \\cdot Var(X_i)$$"
   ]
  },
  {
   "cell_type": "markdown",
   "id": "970f1a4a",
   "metadata": {},
   "source": [
    "# Size of $G(q,z)$"
   ]
  },
  {
   "cell_type": "code",
   "execution_count": 6,
   "id": "ff110f09",
   "metadata": {},
   "outputs": [],
   "source": [
    "t = 10"
   ]
  },
  {
   "cell_type": "code",
   "execution_count": 7,
   "id": "11f5dd03",
   "metadata": {
    "scrolled": true
   },
   "outputs": [
    {
     "name": "stdout",
     "output_type": "stream",
     "text": [
      "30 60 10 1000 300\n"
     ]
    }
   ],
   "source": [
    "print(r1, r2, t, n, d)"
   ]
  },
  {
   "cell_type": "code",
   "execution_count": 11,
   "id": "cf6576d2",
   "metadata": {},
   "outputs": [],
   "source": [
    "points = np.zeros((n, d))\n",
    "\n",
    "z = np.zeros(d)"
   ]
  },
  {
   "cell_type": "code",
   "execution_count": 29,
   "id": "e07c8b9c",
   "metadata": {},
   "outputs": [
    {
     "data": {
      "application/vnd.jupyter.widget-view+json": {
       "model_id": "9b3f8f4bf38c4010a68965b598f1244d",
       "version_major": 2,
       "version_minor": 0
      },
      "text/plain": [
       "  0%|          | 0/60 [00:00<?, ?it/s]"
      ]
     },
     "metadata": {},
     "output_type": "display_data"
    }
   ],
   "source": [
    "grid = np.arange(0, r2)\n",
    "\n",
    "num_samples = 10\n",
    "res = []\n",
    "for dist in tqdm(grid):\n",
    "    q = np.zeros(d)\n",
    "    q[:dist] = 1\n",
    "    cur_res = []\n",
    "    for i in range(num_samples):\n",
    "        lsh = HammingLSH(points, r1, r2, delta)\n",
    "        cur_res.append(lsh.cnt_mutual_buckets(q, z))\n",
    "    res.append(cur_res)"
   ]
  },
  {
   "cell_type": "code",
   "execution_count": 40,
   "id": "37a09cdb",
   "metadata": {},
   "outputs": [],
   "source": [
    "frac_res = np.array(res) / lsh._l\n",
    "means = np.mean(frac_res, axis=1)\n",
    "err = np.std(frac_res, axis=1)"
   ]
  },
  {
   "cell_type": "code",
   "execution_count": 42,
   "id": "b930a353",
   "metadata": {},
   "outputs": [
    {
     "data": {
      "image/png": "[encoded data removed]",
      "text/plain": [
       "<Figure size 576x360 with 1 Axes>"
      ]
     },
     "metadata": {
      "needs_background": "light"
     },
     "output_type": "display_data"
    }
   ],
   "source": [
    "plt.errorbar(grid, means, yerr=err)\n",
    "# plt.yscale(\"log\")\n",
    "plt.title(\"Size of $G(q, z)$\")\n",
    "plt.xlabel(\"Distance to $q$\")\n",
    "plt.ylabel(\"Fraction of all functions\")\n",
    "plt.show()"
   ]
  }
 ],
 "metadata": {
  "kernelspec": {
   "display_name": "Python 3",
   "language": "python",
   "name": "python3"
  },
  "language_info": {
   "codemirror_mode": {
    "name": "ipython",
    "version": 3
   },
   "file_extension": ".py",
   "mimetype": "text/x-python",
   "name": "python",
   "nbconvert_exporter": "python",
   "pygments_lexer": "ipython3",
   "version": "3.8.8"
  }
 },
 "nbformat": 4,
 "nbformat_minor": 5
}
